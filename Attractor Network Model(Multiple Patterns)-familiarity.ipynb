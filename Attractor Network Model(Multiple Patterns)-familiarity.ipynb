{
 "cells": [
  {
   "cell_type": "code",
   "execution_count": 1,
   "metadata": {},
   "outputs": [],
   "source": [
    "from sympy import Symbol,solve\n",
    "import numpy as np\n",
    "import matplotlib.pyplot as plt\n",
    "import random\n",
    "import scipy.stats\n",
    "%matplotlib inline\n",
    "r_m=76.2\n",
    "beta_T=0.82\n",
    "h_0=2.46\n",
    "c=0.05\n",
    "x_f=26.6\n",
    "beta_f=0.28\n",
    "q_f=0.83\n",
    "A=3.55\n",
    "beta_g=beta_f\n",
    "x_g=x_f\n",
    "p=10\n",
    "N=5000"
   ]
  },
  {
   "cell_type": "code",
   "execution_count": 2,
   "metadata": {},
   "outputs": [
    {
     "name": "stdout",
     "output_type": "stream",
     "text": [
      "[[ 3.72347602  5.55130081 25.43485446 ... 18.98093707 10.86434459\n",
      "   6.43030113]\n",
      " [ 6.68252319  3.73134127  4.05012709 ...  1.58427506 12.0329716\n",
      "  11.88932683]\n",
      " [12.26950607  3.86503481 12.59832562 ...  4.0655393  10.05382179\n",
      "   6.95235652]\n",
      " ...\n",
      " [ 5.77395872 10.99526031  2.14103786 ... 13.4917059  11.77677592\n",
      "  15.8696527 ]\n",
      " [11.26027668  8.29518631 21.28050113 ... 16.71526705  4.09406453\n",
      "   3.07192113]\n",
      " [ 9.35911839  6.45470607  9.32897761 ...  4.0973527   4.2993738\n",
      "   6.70088092]]\n"
     ]
    }
   ],
   "source": [
    "#Firing rate pattern\n",
    "xi_pattern=np.random.normal(0,1,size=(p,N))\n",
    "r_pattern=r_m/(1+np.exp(-beta_T*(xi_pattern-h_0)))\n",
    "print(r_pattern)"
   ]
  },
  {
   "cell_type": "code",
   "execution_count": 3,
   "metadata": {},
   "outputs": [],
   "source": [
    "# Structral connectivity matrix\n",
    "C=np.zeros((N,N),dtype='int8')\n",
    "for i in range(N):\n",
    "    for j in range(N):\n",
    "        if random.uniform(0,1)<c:\n",
    "            C[i,j]=1"
   ]
  },
  {
   "cell_type": "code",
   "execution_count": 4,
   "metadata": {},
   "outputs": [],
   "source": [
    "#x = Symbol('x')\n",
    "#def func(z):\n",
    "#    I=np.exp(-z**2/2)*(2*x-1+np.tanh(beta_g*(r_m/(1+np.exp(-beta_T*(z-h_0)))-x_g)))\n",
    "#    return I\n",
    "#Sum2=0\n",
    "#for i in range(N):\n",
    "#    Sum2=Sum2+func(xi_pattern[0,i])\n",
    "#q_g=solve(Sum2,x)[0]\n",
    "#print(q_g)"
   ]
  },
  {
   "cell_type": "code",
   "execution_count": 5,
   "metadata": {},
   "outputs": [],
   "source": [
    "#Final connectivity matrix J\n",
    "q_g=0.99\n",
    "def f(r):\n",
    "    return 0.5*(2*q_f-1+np.tanh(beta_f*(r-x_f)))\n",
    "def g(r):\n",
    "    return 0.5*(2*q_g-1+np.tanh(beta_g*(r-x_g)))\n",
    "def phi(xi):\n",
    "    return r_m/(1+np.exp(-beta_T*(xi-h_0)))"
   ]
  },
  {
   "cell_type": "code",
   "execution_count": 6,
   "metadata": {},
   "outputs": [],
   "source": [
    "#equation 2\n",
    "J=np.zeros((N,N))\n",
    "Sum=np.zeros((N,N))\n",
    "for k in range(p):\n",
    "    Sum=Sum+np.dot(f(np.transpose(r_pattern[k])).reshape(N,1),g(r_pattern[k]).reshape(1,N))\n",
    "J=A*C/c/N*Sum\n",
    "for i in range(N):\n",
    "    J[i,i]=0"
   ]
  },
  {
   "cell_type": "code",
   "execution_count": 7,
   "metadata": {},
   "outputs": [
    {
     "name": "stdout",
     "output_type": "stream",
     "text": [
      "[0.24555759 2.56677455 0.83993443 ... 4.60288852 0.32187695 4.52363909]\n"
     ]
    }
   ],
   "source": [
    "# initial firing rate\n",
    "r0=np.random.uniform(0,5,N)\n",
    "#for i in range(p):\n",
    "#    for j in range(N):\n",
    "#        r0[j]=np.random.normal(r_pattern[i,j],1)\n",
    "print(r0)"
   ]
  },
  {
   "cell_type": "code",
   "execution_count": 8,
   "metadata": {},
   "outputs": [
    {
     "data": {
      "image/png": "[encoded data removed]",
      "text/plain": [
       "<Figure size 432x288 with 1 Axes>"
      ]
     },
     "metadata": {
      "needs_background": "light"
     },
     "output_type": "display_data"
    }
   ],
   "source": [
    "#Novel stimulus\n",
    "t_p=1000\n",
    "t_max=2500+t_p\n",
    "r=np.zeros((N,t_max))\n",
    "tau=20\n",
    "t_pre=1000+t_p\n",
    "t_delay=1500+t_p\n",
    "dt=1\n",
    "I0=1\n",
    "E_novel=np.zeros((p,t_max))\n",
    "#E_novels=np.zeros(t_max)\n",
    "for i in range(p):\n",
    "    ita=np.random.normal(0,1,size=N)\n",
    "    I=I0*ita\n",
    "    r[:,0]=r0\n",
    "    for t in range(1,t_pre):\n",
    "        xi=np.dot(J,r[:,t-1])\n",
    "        r[:,t]=r[:,t-1]+(-r[:,t-1]+phi(xi))/tau*dt #equation 1\n",
    "        E_novel[i,t]=-1/2*np.sum(np.dot(r[:,t].reshape(N,1),r[:,t].reshape(1,N))*J)\n",
    "    for t in range(t_pre,t_delay):\n",
    "        xi=np.dot(J,r[:,t-1])\n",
    "        r[:,t]=r[:,t-1]+(-r[:,t-1]+phi(I+xi))/tau*dt #equation 1\n",
    "        E_novel[i,t]=-1/2*np.sum(np.dot(r[:,t].reshape(N,1),r[:,t].reshape(1,N))*J)\n",
    "    for t in range(t_delay,t_max):\n",
    "        xi=np.dot(J,r[:,t-1])\n",
    "        r[:,t]=r[:,t-1]+(-r[:,t-1]+phi(xi))/tau*dt #equation 1\n",
    "        E_novel[i,t]=-1/2*np.sum(np.dot(r[:,t].reshape(N,1),r[:,t].reshape(1,N))*J)\n",
    "    #E_novels[i]=-1/2*np.sum(np.dot(r[:,t_pre-1].reshape(N,1),r[:,t_pre-1].reshape(1,N))*J)\n",
    "plt.figure()\n",
    "plt.title('Firing rate dynamics under novel stimulus')\n",
    "plt.xlabel('Time(ms)')\n",
    "plt.ylabel('Rate(Hz)')\n",
    "plt.vlines(t_pre-t_p, 0,80, colors = \"grey\", linestyles = \"dashed\",linewidth=2)\n",
    "plt.vlines(t_delay-t_p, 0,80, colors = \"grey\", linestyles = \"dashed\",linewidth=2)\n",
    "for i in range(30):\n",
    "    plt.plot(range(0,t_max-t_p),r[i,t_p:t_max])\n",
    "r1=np.copy(r)\n",
    "#plt.savefig('Figures/novel_stimulus.png')"
   ]
  },
  {
   "cell_type": "markdown",
   "metadata": {},
   "source": [
    "import seaborn as sns\n",
    "plt.figure()\n",
    "plt.title('Firing rate distribution under novel stimulus')\n",
    "plt.xlabel('Rate(Hz)')\n",
    "plt.ylabel('Probability Density')\n",
    "sns.kdeplot(r[:,t_delay-1],label='Presentation')\n",
    "sns.kdeplot(r[:,t_max-1],label='Delay')\n",
    "plt.savefig('Figures/distribution_novel.png')"
   ]
  },
  {
   "cell_type": "markdown",
   "metadata": {},
   "source": [
    "#Overlap\n",
    "import scipy.stats\n",
    "plt.figure()\n",
    "plt.ylim(-0.2,1)\n",
    "plt.title('Overlap under novel stimulus')\n",
    "plt.xlabel('Time(s)')\n",
    "plt.ylabel('Overlap(m)')\n",
    "\n",
    "for i in range(p):\n",
    "    ita=np.random.normal(0,1,size=N)\n",
    "    I=I0*ita\n",
    "    r[:,0]=r0\n",
    "    for t in range(1,t_pre):\n",
    "        xi=np.dot(J,r[:,t-1])\n",
    "        r[:,t]=r[:,t-1]+(-r[:,t-1]+phi(xi))/tau*dt #equation 1\n",
    "    for t in range(t_pre,t_delay):\n",
    "        xi=np.dot(J,r[:,t-1])\n",
    "        r[:,t]=r[:,t-1]+(-r[:,t-1]+phi(I+xi))/tau*dt #equation 1\n",
    "    for t in range(t_delay,t_max):\n",
    "        xi=np.dot(J,r[:,t-1])\n",
    "        r[:,t]=r[:,t-1]+(-r[:,t-1]+phi(xi))/tau*dt #equation 1\n",
    "    p_r=np.zeros(t_max-t_p)\n",
    "    for t in range(0,t_max-t_p):\n",
    "        p_r[t]=scipy.stats.pearsonr(r[:,t+t_p],r_pattern[i])[0]\n",
    "    plt.plot(range(0,t_max-t_p),p_r)\n",
    "plt.savefig(\"Figures/overlap_novel.png\")"
   ]
  },
  {
   "cell_type": "code",
   "execution_count": 9,
   "metadata": {},
   "outputs": [
    {
     "data": {
      "image/png": "[encoded data removed]",
      "text/plain": [
       "<Figure size 432x288 with 1 Axes>"
      ]
     },
     "metadata": {
      "needs_background": "light"
     },
     "output_type": "display_data"
    }
   ],
   "source": [
    "#Familiar Stimulus\n",
    "E_familiar=np.zeros((p,t_max))\n",
    "#E_familiars=np.zeros(t_max)\n",
    "for i in range(p):\n",
    "    I=I0*xi_pattern[i]\n",
    "    r[:,0]=r0\n",
    "    for t in range(1,t_pre):\n",
    "        xi=np.dot(J,r[:,t-1])\n",
    "        r[:,t]=r[:,t-1]+(-r[:,t-1]+phi(xi))/tau*dt #equation 1\n",
    "        E_familiar[i,t]=-1/2*np.sum(np.dot(r[:,t].reshape(N,1),r[:,t].reshape(1,N))*J)\n",
    "    for t in range(t_pre,t_delay):\n",
    "        xi=np.dot(J,r[:,t-1])\n",
    "        r[:,t]=r[:,t-1]+(-r[:,t-1]+phi(I+xi))/tau*dt #equation 1\n",
    "        E_familiar[i,t]=-1/2*np.sum(np.dot(r[:,t].reshape(N,1),r[:,t].reshape(1,N))*J)\n",
    "    for t in range(t_delay,t_max):\n",
    "        xi=np.dot(J,r[:,t-1])\n",
    "        r[:,t]=r[:,t-1]+(-r[:,t-1]+phi(xi))/tau*dt #equation 1\n",
    "        E_familiar[i,t]=-1/2*np.sum(np.dot(r[:,t].reshape(N,1),r[:,t].reshape(1,N))*J)\n",
    "    #E_familiars[i]=-1/2*np.sum(np.dot(r[:,t_pre-1].reshape(N,1),r[:,t_pre-1].reshape(1,N))*J)\n",
    "plt.figure()\n",
    "plt.title('Firing rate dynamics under familiar stimulus')\n",
    "plt.xlabel('Time(ms)')\n",
    "plt.ylabel('Rate(Hz)')\n",
    "for i in range(30):\n",
    "    plt.plot(range(0,t_max-t_p),r[i,t_p:t_max])\n",
    "plt.vlines(t_pre-t_p, 0,80, colors = \"grey\", linestyles = \"dashed\",linewidth=2)\n",
    "plt.vlines(t_delay-t_p, 0,80, colors = \"grey\", linestyles = \"dashed\",linewidth=2)\n",
    "r2=np.copy(r)\n",
    "#plt.savefig('Figures/familiar_stimulus.png')"
   ]
  },
  {
   "cell_type": "markdown",
   "metadata": {},
   "source": [
    "#familiarity\n",
    "plt.figure()\n",
    "plt.title('FamE')\n",
    "plt.ylabel('Energy')\n",
    "plt.xlabel('Time (ms)')\n",
    "plt.plot(range(0,1000),E_novel[t_pre:t_pre+1000])\n",
    "plt.plot(range(0,1000),E_familiar[t_pre:t_pre+1000])\n",
    "plt.legend(['novel','familiar'])"
   ]
  },
  {
   "cell_type": "markdown",
   "metadata": {},
   "source": [
    "dE_novel=np.zeros(t_max)\n",
    "dE_familiar=np.zeros(t_max)\n",
    "for t in range(1,t_max):\n",
    "    dE_novel[t]=E_novel[t]-E_novel[t-1]\n",
    "    dE_familiar[t]=E_familiar[t]-E_familiar[t-1]\n",
    "plt.figure()\n",
    "plt.title('FamS')\n",
    "plt.ylabel('Slope')\n",
    "plt.xlabel('Time (ms)')\n",
    "plt.plot(range(0,1000),dE_novel[t_pre:t_pre+1000])\n",
    "plt.plot(range(0,1000),dE_familiar[t_pre:t_pre+1000])\n",
    "plt.legend(['novel','familiar'])"
   ]
  },
  {
   "cell_type": "code",
   "execution_count": 11,
   "metadata": {},
   "outputs": [
    {
     "data": {
      "text/plain": [
       "[<matplotlib.lines.Line2D at 0x1a24bf0780>]"
      ]
     },
     "execution_count": 11,
     "metadata": {},
     "output_type": "execute_result"
    },
    {
     "data": {
      "image/png": "[encoded data removed]",
      "text/plain": [
       "<Figure size 432x288 with 1 Axes>"
      ]
     },
     "metadata": {
      "needs_background": "light"
     },
     "output_type": "display_data"
    }
   ],
   "source": [
    "SNR=np.zeros(1000)\n",
    "for t in range(1000):\n",
    "    SNR[t]=2*np.abs(np.mean(E_novel[:,t_pre+t])-np.mean(E_familiar[:,t_pre+t]))/(np.var(E_novel[:,t_pre+t])+np.var(E_familiar[:,t_pre+t]))\n",
    "plt.figure()\n",
    "plt.title('SNR')\n",
    "plt.xlabel('Time (ms)')\n",
    "plt.ylabel('SNR')\n",
    "plt.plot(range(1000),SNR)"
   ]
  },
  {
   "cell_type": "markdown",
   "metadata": {},
   "source": [
    "plt.figure()\n",
    "plt.title('Firing rate distribution under familiar stimulus')\n",
    "plt.xlabel('Rate(Hz)')\n",
    "plt.ylabel('Probability Density')\n",
    "sns.kdeplot(r[:,t_delay-1],label='Presentation')\n",
    "sns.kdeplot(r[:,t_max-1],label='Delay')\n",
    "plt.savefig('Figures/distribution_familiar.png')"
   ]
  },
  {
   "cell_type": "markdown",
   "metadata": {},
   "source": [
    "#Overlap\n",
    "plt.figure()\n",
    "plt.ylim(0,1)\n",
    "plt.title('Overlap under familiar stimulus')\n",
    "plt.xlabel('Time(s)')\n",
    "plt.ylabel('Overlap(m)')\n",
    "\n",
    "for i in range(p):\n",
    "    I=I0*xi_pattern[i]\n",
    "    r[:,0]=r0\n",
    "    for t in range(1,t_pre):\n",
    "        xi=np.dot(J,r[:,t-1])\n",
    "        r[:,t]=r[:,t-1]+(-r[:,t-1]+phi(xi))/tau*dt #equation 1\n",
    "    for t in range(t_pre,t_delay):\n",
    "        xi=np.dot(J,r[:,t-1])\n",
    "        r[:,t]=r[:,t-1]+(-r[:,t-1]+phi(I+xi))/tau*dt #equation 1\n",
    "    for t in range(t_delay,t_max):\n",
    "        xi=np.dot(J,r[:,t-1])\n",
    "        r[:,t]=r[:,t-1]+(-r[:,t-1]+phi(xi))/tau*dt #equation 1\n",
    "    p_r=np.zeros(t_max-t_p)\n",
    "    for t in range(0,t_max-t_p):\n",
    "        p_r[t]=scipy.stats.pearsonr(r[:,t+t_p],r_pattern[i])[0]\n",
    "    plt.plot(range(0,t_max-t_p),p_r)\n",
    "plt.savefig(\"Figures/overlap_familiar.png\")"
   ]
  },
  {
   "cell_type": "code",
   "execution_count": 17,
   "metadata": {},
   "outputs": [
    {
     "name": "stdout",
     "output_type": "stream",
     "text": [
      "[-43164.61231176 -41554.26172718 -42808.69314877 -41475.40420487\n",
      " -39767.71336006 -42344.19212185 -42173.03925208 -41622.05035232\n",
      " -41607.99372615 -37727.2712618 ]\n"
     ]
    }
   ],
   "source": [
    "print(E_novel[:,t_delay])"
   ]
  },
  {
   "cell_type": "code",
   "execution_count": 18,
   "metadata": {},
   "outputs": [
    {
     "name": "stdout",
     "output_type": "stream",
     "text": [
      "[-62068.41284332 -51706.43641277 -34893.90253154 -33125.8795448\n",
      " -48851.88464377 -67131.88332689 -35527.07608843 -51408.04164733\n",
      " -53260.02083854 -35333.29496986]\n"
     ]
    }
   ],
   "source": [
    "print(E_familiar[:,t_delay])"
   ]
  },
  {
   "cell_type": "code",
   "execution_count": null,
   "metadata": {},
   "outputs": [],
   "source": []
  }
 ],
 "metadata": {
  "kernelspec": {
   "display_name": "Python 3",
   "language": "python",
   "name": "python3"
  },
  "language_info": {
   "codemirror_mode": {
    "name": "ipython",
    "version": 3
   },
   "file_extension": ".py",
   "mimetype": "text/x-python",
   "name": "python",
   "nbconvert_exporter": "python",
   "pygments_lexer": "ipython3",
   "version": "3.7.3"
  }
 },
 "nbformat": 4,
 "nbformat_minor": 4
}
