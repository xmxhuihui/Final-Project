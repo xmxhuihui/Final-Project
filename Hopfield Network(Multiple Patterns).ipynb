{
 "cells": [
  {
   "cell_type": "code",
   "execution_count": 1,
   "metadata": {},
   "outputs": [
    {
     "name": "stdout",
     "output_type": "stream",
     "text": [
      "[[ 0.06   0.    -0.012 ...  0.     0.012  0.   ]\n",
      " [ 0.     0.06  -0.008 ... -0.004 -0.016  0.012]\n",
      " [-0.012 -0.008  0.06  ...  0.008  0.012 -0.016]\n",
      " ...\n",
      " [ 0.    -0.004  0.008 ...  0.06  -0.016 -0.012]\n",
      " [ 0.012 -0.016  0.012 ... -0.016  0.06   0.   ]\n",
      " [ 0.     0.012 -0.016 ... -0.012  0.     0.06 ]]\n"
     ]
    }
   ],
   "source": [
    "import numpy as np\n",
    "import matplotlib.pyplot as plt\n",
    "import random\n",
    "import scipy.stats\n",
    "%matplotlib inline\n",
    "N=500\n",
    "p=30\n",
    "xi_patterns=np.zeros((p,N))\n",
    "for i in range(p):\n",
    "    for j in range(N):\n",
    "        if random.uniform(0,1)<0.5:\n",
    "            xi_patterns[i,j]=1\n",
    "        else:\n",
    "            xi_patterns[i,j]=-1\n",
    "w=np.zeros((N,N))\n",
    "#for i in range(N):\n",
    "#    for j in range(N):\n",
    "#        for myu in range(p):\n",
    "#            w[i,j]=w[i,j]+1/N*xi_patterns[myu,i]*xi_patterns[myu,j]\n",
    "for myu in range(p):\n",
    "    w=w+1/N*np.dot(xi_patterns[myu].reshape(N,1),xi_patterns[myu].reshape(1,N))\n",
    "print(w)"
   ]
  },
  {
   "cell_type": "code",
   "execution_count": 2,
   "metadata": {},
   "outputs": [
    {
     "name": "stdout",
     "output_type": "stream",
     "text": [
      "[1.         1.         1.         0.99600784 1.         0.9920287\n",
      " 0.99600337 0.97219181 0.99202157 0.99198153 0.95606182 0.96803149\n",
      " 0.9800712  0.99199949 1.         1.         1.         0.97997902\n",
      " 0.97997902 0.99188312 1.         0.98800675 0.99600797 1.\n",
      " 0.9960044  1.         0.97198896 0.98794894 0.97989788 0.9800072 ]\n"
     ]
    }
   ],
   "source": [
    "pr=np.zeros(p)\n",
    "for sp in range(p):\n",
    "    xi0=np.zeros(N)\n",
    "    #sp=np.random.randint(0,p)\n",
    "    for i in range(N):\n",
    "        if random.uniform(0,1)<0.2:\n",
    "            xi0[i]=-xi_patterns[sp,i]\n",
    "        else:\n",
    "            xi0[i]=xi_patterns[sp,i]\n",
    "    xi=np.zeros(N)\n",
    "    #for i in range(N):\n",
    "    #    Sum=0\n",
    "    #    for j in range(N):\n",
    "    #        Sum=Sum+w[i,j]*xi0[j]\n",
    "    #    if Sum>0:\n",
    "    #        xi[i]=1\n",
    "    #    elif Sum==0:\n",
    "    #        xi[i]=0\n",
    "    #    else:\n",
    "    #        xi[i]=-1\n",
    "    Sum=np.dot(w,xi0.reshape(N,1))\n",
    "    for i in range(N):\n",
    "        if Sum[i]>0:\n",
    "            xi[i]=1\n",
    "        elif Sum[i]==0:\n",
    "            xi[i]=0\n",
    "        else:\n",
    "            xi[i]=-1\n",
    "    pr[sp]=scipy.stats.pearsonr(xi_patterns[sp],xi)[0]\n",
    "print(pr)"
   ]
  },
  {
   "cell_type": "code",
   "execution_count": 3,
   "metadata": {},
   "outputs": [],
   "source": [
    "# Overlap\n"
   ]
  }
 ],
 "metadata": {
  "kernelspec": {
   "display_name": "Python 3",
   "language": "python",
   "name": "python3"
  },
  "language_info": {
   "codemirror_mode": {
    "name": "ipython",
    "version": 3
   },
   "file_extension": ".py",
   "mimetype": "text/x-python",
   "name": "python",
   "nbconvert_exporter": "python",
   "pygments_lexer": "ipython3",
   "version": "3.7.3"
  }
 },
 "nbformat": 4,
 "nbformat_minor": 4
}
