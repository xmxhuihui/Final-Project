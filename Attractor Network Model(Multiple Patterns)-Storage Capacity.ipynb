{
 "cells": [
  {
   "cell_type": "code",
   "execution_count": 4,
   "metadata": {},
   "outputs": [],
   "source": [
    "from sympy import Symbol,solve\n",
    "import numpy as np\n",
    "import matplotlib.pyplot as plt\n",
    "import random\n",
    "import scipy.stats\n",
    "import seaborn as sns\n",
    "%matplotlib inline\n",
    "r_m=76.2\n",
    "beta_T=0.82\n",
    "h_0=2.46\n",
    "c=0.05\n",
    "x_f=26.6\n",
    "beta_f=0.28\n",
    "q_f=0.83\n",
    "A=3.55\n",
    "beta_g=beta_f\n",
    "x_g=x_f\n",
    "N=5000\n",
    "t_p=1000\n",
    "t_max=2500+t_p\n",
    "r=np.zeros((N,t_max))\n",
    "tau=20\n",
    "t_pre=1000+t_p\n",
    "t_delay=1500+t_p\n",
    "dt=1\n",
    "I0=1\n",
    "q_g=0.99\n",
    "p_max=30\n",
    "alpha=np.zeros(p_max)\n",
    "overlaps=np.zeros(p_max)"
   ]
  },
  {
   "cell_type": "code",
   "execution_count": 5,
   "metadata": {},
   "outputs": [
    {
     "name": "stdout",
     "output_type": "stream",
     "text": [
      "[3.67634059 3.36983733 4.40715801 ... 3.26221564 0.19491983 2.03335675]\n"
     ]
    }
   ],
   "source": [
    "# Structral connectivity matrix\n",
    "#Firing rate pattern\n",
    "C=np.zeros((N,N),dtype='int8')\n",
    "def f(r):\n",
    "    return 0.5*(2*q_f-1+np.tanh(beta_f*(r-x_f)))\n",
    "def g(r):\n",
    "    return 0.5*(2*q_g-1+np.tanh(beta_g*(r-x_g)))\n",
    "def phi(xi):\n",
    "    return r_m/(1+np.exp(-beta_T*(xi-h_0)))\n",
    "for i in range(N):\n",
    "    for j in range(N):\n",
    "        if random.uniform(0,1)<c:\n",
    "            C[i,j]=1\n",
    "# initial firing rate\n",
    "r0=np.random.uniform(0,5,N)\n",
    "print(r0)"
   ]
  },
  {
   "cell_type": "code",
   "execution_count": 6,
   "metadata": {},
   "outputs": [
    {
     "name": "stdout",
     "output_type": "stream",
     "text": [
      "p=1\n",
      "p=2\n",
      "p=3\n",
      "p=4\n",
      "p=5\n",
      "p=6\n",
      "p=7\n",
      "p=8\n",
      "p=9\n",
      "p=10\n",
      "p=11\n",
      "p=12\n",
      "p=13\n",
      "p=14\n",
      "p=15\n",
      "p=16\n",
      "p=17\n",
      "p=18\n",
      "p=19\n",
      "p=20\n",
      "p=21\n",
      "p=22\n",
      "p=23\n",
      "p=24\n",
      "p=25\n",
      "p=26\n",
      "p=27\n",
      "p=28\n",
      "p=29\n",
      "p=30\n"
     ]
    },
    {
     "data": {
      "text/plain": [
       "<matplotlib.collections.PathCollection at 0x10b4f43c8>"
      ]
     },
     "execution_count": 6,
     "metadata": {},
     "output_type": "execute_result"
    },
    {
     "data": {
      "image/png": "[encoded data removed]",
      "text/plain": [
       "<Figure size 432x288 with 1 Axes>"
      ]
     },
     "metadata": {
      "needs_background": "light"
     },
     "output_type": "display_data"
    }
   ],
   "source": [
    "for p in range(1,p_max+1):\n",
    "    print('p='+str(p))\n",
    "    xi_pattern=np.random.normal(0,1,size=(p,N))\n",
    "    r_pattern=r_m/(1+np.exp(-beta_T*(xi_pattern-h_0)))\n",
    "    #Final connectivity matrix J\n",
    "    J=np.zeros((N,N))\n",
    "    #equation 2\n",
    "    Sum=np.zeros((N,N))\n",
    "    for k in range(p):\n",
    "        Sum=Sum+np.dot(f(r_pattern[k]).reshape(N,1),g(r_pattern[k]).reshape(1,N))\n",
    "    J=A*C/c/N*Sum\n",
    "    for i in range(N):\n",
    "        J[i,i]=0\n",
    "    I=I0*xi_pattern[0]\n",
    "    r[:,0]=r0\n",
    "    for t in range(1,t_pre):\n",
    "        xi=np.dot(J,r[:,t-1])\n",
    "        r[:,t]=r[:,t-1]+(-r[:,t-1]+phi(xi))/tau*dt #equation 1\n",
    "    for t in range(t_pre\n",
    ",t_delay):\n",
    "        xi=np.dot(J,r[:,t-1])\n",
    "        r[:,t]=r[:,t-1]+(-r[:,t-1]+phi(I+xi))/tau*dt #equation 1\n",
    "    for t in range(t_delay,t_max):\n",
    "        xi=np.dot(J,r[:,t-1])\n",
    "        r[:,t]=r[:,t-1]+(-r[:,t-1]+phi(xi))/tau*dt #equation 1\n",
    "    #Overlap\n",
    "    p_r=np.zeros(t_max-t_p)\n",
    "    for t in range(0,t_max-t_p):\n",
    "        p_r[t]=scipy.stats.pearsonr(r[:,t+t_p],r_pattern[0])[0]\n",
    "    alpha[p-1]=p/N/c\n",
    "    overlaps[p-1]=p_r[-1]\n",
    "plt.figure()\n",
    "plt.scatter(alpha,overlaps,marker='o',color='red')"
   ]
  },
  {
   "cell_type": "code",
   "execution_count": 10,
   "metadata": {},
   "outputs": [
    {
     "data": {
      "text/plain": [
       "[<matplotlib.lines.Line2D at 0x1a2b0a8438>]"
      ]
     },
     "execution_count": 10,
     "metadata": {},
     "output_type": "execute_result"
    },
    {
     "data": {
      "image/png": "[encoded data removed]",
      "text/plain": [
       "<Figure size 432x288 with 1 Axes>"
      ]
     },
     "metadata": {
      "needs_background": "light"
     },
     "output_type": "display_data"
    }
   ],
   "source": [
    "plt.plot(range(t_max-t_p),p_r)"
   ]
  },
  {
   "cell_type": "code",
   "execution_count": null,
   "metadata": {},
   "outputs": [],
   "source": []
  }
 ],
 "metadata": {
  "kernelspec": {
   "display_name": "Python 3",
   "language": "python",
   "name": "python3"
  },
  "language_info": {
   "codemirror_mode": {
    "name": "ipython",
    "version": 3
   },
   "file_extension": ".py",
   "mimetype": "text/x-python",
   "name": "python",
   "nbconvert_exporter": "python",
   "pygments_lexer": "ipython3",
   "version": "3.7.3"
  }
 },
 "nbformat": 4,
 "nbformat_minor": 4
}
