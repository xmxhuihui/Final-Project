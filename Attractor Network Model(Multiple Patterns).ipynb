{
 "cells": [
  {
   "cell_type": "code",
   "execution_count": 1,
   "metadata": {},
   "outputs": [],
   "source": [
    "from sympy import Symbol,solve\n",
    "import numpy as np\n",
    "import matplotlib.pyplot as plt\n",
    "import random\n",
    "import scipy.stats\n",
    "%matplotlib inline\n",
    "r_m=76.2\n",
    "beta_T=0.82\n",
    "h_0=2.46\n",
    "c=0.05\n",
    "x_f=26.6\n",
    "beta_f=0.28\n",
    "q_f=0.83\n",
    "A=3.55\n",
    "beta_g=beta_f\n",
    "x_g=x_f\n",
    "p=10\n",
    "N=5000"
   ]
  },
  {
   "cell_type": "code",
   "execution_count": 2,
   "metadata": {},
   "outputs": [
    {
     "name": "stdout",
     "output_type": "stream",
     "text": [
      "[[11.56156029  1.94270797  6.44174219 ... 13.98026894 13.38936677\n",
      "  18.73557242]\n",
      " [11.97379687 10.28082876 15.49415969 ...  4.92418863 16.62168923\n",
      "  10.31667215]\n",
      " [16.64121419 18.41619118  4.36384301 ...  7.06461215 18.61802204\n",
      "   6.09576427]\n",
      " ...\n",
      " [ 7.79160764  8.43641496 10.396095   ... 21.96784212  6.33696692\n",
      "   4.34368996]\n",
      " [ 6.0775193   9.99896942  3.66895051 ... 19.77126627 24.24258261\n",
      "  15.75393938]\n",
      " [10.85756131 31.8513338   7.97070506 ... 33.70939087  6.21203756\n",
      "  16.98817474]]\n"
     ]
    }
   ],
   "source": [
    "#Firing rate pattern\n",
    "xi_pattern=np.random.normal(0,1,size=(p,N))\n",
    "r_pattern=r_m/(1+np.exp(-beta_T*(xi_pattern-h_0)))\n",
    "print(r_pattern)"
   ]
  },
  {
   "cell_type": "code",
   "execution_count": 3,
   "metadata": {},
   "outputs": [],
   "source": [
    "# Structral connectivity matrix\n",
    "C=np.zeros((N,N),dtype='int8')\n",
    "for i in range(N):\n",
    "    for j in range(N):\n",
    "        if random.uniform(0,1)<c:\n",
    "            C[i,j]=1"
   ]
  },
  {
   "cell_type": "code",
   "execution_count": 4,
   "metadata": {},
   "outputs": [],
   "source": [
    "#x = Symbol('x')\n",
    "#def func(z):\n",
    "#    I=np.exp(-z**2/2)*(2*x-1+np.tanh(beta_g*(r_m/(1+np.exp(-beta_T*(z-h_0)))-x_g)))\n",
    "#    return I\n",
    "#Sum2=0\n",
    "#for i in range(N):\n",
    "#    Sum2=Sum2+func(xi_pattern[0,i])\n",
    "#q_g=solve(Sum2,x)[0]\n",
    "#print(q_g)"
   ]
  },
  {
   "cell_type": "code",
   "execution_count": 5,
   "metadata": {},
   "outputs": [],
   "source": [
    "#Final connectivity matrix J\n",
    "q_g=0.99\n",
    "def f(r):\n",
    "    return 0.5*(2*q_f-1+np.tanh(beta_f*(r-x_f)))\n",
    "def g(r):\n",
    "    return 0.5*(2*q_g-1+np.tanh(beta_g*(r-x_g)))\n",
    "def phi(xi):\n",
    "    return r_m/(1+np.exp(-beta_T*(xi-h_0)))"
   ]
  },
  {
   "cell_type": "code",
   "execution_count": 6,
   "metadata": {},
   "outputs": [],
   "source": [
    "#equation 2\n",
    "J=np.zeros((N,N))\n",
    "Sum=np.zeros((N,N))\n",
    "for k in range(p):\n",
    "    Sum=Sum+np.dot(f(np.transpose(r_pattern[k])).reshape(N,1),g(r_pattern[k]).reshape(1,N))\n",
    "J=A*C/c/N*Sum\n",
    "for i in range(N):\n",
    "    J[i,i]=0"
   ]
  },
  {
   "cell_type": "code",
   "execution_count": 7,
   "metadata": {},
   "outputs": [
    {
     "name": "stdout",
     "output_type": "stream",
     "text": [
      "[0.25520808 4.82304467 2.59951209 ... 4.8418488  0.83070412 1.59630457]\n"
     ]
    }
   ],
   "source": [
    "# initial firing rate\n",
    "r0=np.random.uniform(0,5,N)\n",
    "#for i in range(p):\n",
    "#    for j in range(N):\n",
    "#        r0[j]=np.random.normal(r_pattern[i,j],1)\n",
    "print(r0)"
   ]
  },
  {
   "cell_type": "code",
   "execution_count": null,
   "metadata": {},
   "outputs": [],
   "source": [
    "#Novel stimulus\n",
    "t_p=1000\n",
    "t_max=2500+t_p\n",
    "r=np.zeros((N,t_max))\n",
    "tau=20\n",
    "t_pre=1000+t_p\n",
    "t_delay=1500+t_p\n",
    "dt=1\n",
    "I0=1\n",
    "ita=np.random.normal(0,1,size=N)\n",
    "I=I0*ita\n",
    "r[:,0]=r0\n",
    "\n",
    "for t in range(1,t_pre):\n",
    "    xi=np.dot(J,r[:,t-1])\n",
    "    r[:,t]=r[:,t-1]+(-r[:,t-1]+phi(xi))/tau*dt #equation 1\n",
    "for t in range(t_pre,t_delay):\n",
    "    xi=np.dot(J,r[:,t-1])\n",
    "    r[:,t]=r[:,t-1]+(-r[:,t-1]+phi(I+xi))/tau*dt #equation 1\n",
    "for t in range(t_delay,t_max):\n",
    "    xi=np.dot(J,r[:,t-1])\n",
    "    r[:,t]=r[:,t-1]+(-r[:,t-1]+phi(xi))/tau*dt #equation 1\n",
    "plt.figure()\n",
    "plt.title('Firing rate dynamics under novel stimulus')\n",
    "plt.xlabel('Time(ms)')\n",
    "plt.ylabel('Rate(Hz)')\n",
    "plt.vlines(t_pre-t_p, 0,80, colors = \"grey\", linestyles = \"dashed\",linewidth=2)\n",
    "plt.vlines(t_delay-t_p, 0,80, colors = \"grey\", linestyles = \"dashed\",linewidth=2)\n",
    "for i in range(30):\n",
    "    plt.plot(range(0,t_max-t_p),r[i,t_p:t_max])\n",
    "#plt.savefig('Figures/novel_stimulus.png')"
   ]
  },
  {
   "cell_type": "code",
   "execution_count": null,
   "metadata": {},
   "outputs": [],
   "source": [
    "import seaborn as sns\n",
    "plt.figure()\n",
    "plt.title('Firing rate distribution under novel stimulus')\n",
    "plt.xlabel('Rate(Hz)')\n",
    "plt.ylabel('Probability Density')\n",
    "sns.kdeplot(r[:,t_delay-1],label='Presentation')\n",
    "sns.kdeplot(r[:,t_max-1],label='Delay')\n",
    "plt.savefig('Figures/distribution_novel.png')"
   ]
  },
  {
   "cell_type": "code",
   "execution_count": null,
   "metadata": {},
   "outputs": [],
   "source": [
    "#Overlap\n",
    "import scipy.stats\n",
    "plt.figure()\n",
    "plt.ylim(-0.2,1)\n",
    "plt.title('Overlap under novel stimulus')\n",
    "plt.xlabel('Time(s)')\n",
    "plt.ylabel('Overlap(m)')\n",
    "\n",
    "for i in range(p):\n",
    "    ita=np.random.normal(0,1,size=N)\n",
    "    I=I0*ita\n",
    "    r[:,0]=r0\n",
    "    for t in range(1,t_pre):\n",
    "        xi=np.dot(J,r[:,t-1])\n",
    "        r[:,t]=r[:,t-1]+(-r[:,t-1]+phi(xi))/tau*dt #equation 1\n",
    "    for t in range(t_pre,t_delay):\n",
    "        xi=np.dot(J,r[:,t-1])\n",
    "        r[:,t]=r[:,t-1]+(-r[:,t-1]+phi(I+xi))/tau*dt #equation 1\n",
    "    for t in range(t_delay,t_max):\n",
    "        xi=np.dot(J,r[:,t-1])\n",
    "        r[:,t]=r[:,t-1]+(-r[:,t-1]+phi(xi))/tau*dt #equation 1\n",
    "    p_r=np.zeros(t_max-t_p)\n",
    "    for t in range(0,t_max-t_p):\n",
    "        p_r[t]=scipy.stats.pearsonr(r[:,t+t_p],r_pattern[i])[0]\n",
    "    plt.plot(range(0,t_max-t_p),p_r)\n",
    "plt.savefig(\"Figures/overlap_novel.png\")"
   ]
  },
  {
   "cell_type": "code",
   "execution_count": null,
   "metadata": {},
   "outputs": [],
   "source": [
    "#Familiar Stimulus\n",
    "I=I0*xi_pattern[0]\n",
    "r[:,0]=r0\n",
    "\n",
    "for t in range(1,t_pre):\n",
    "    xi=np.dot(J,r[:,t-1])\n",
    "    r[:,t]=r[:,t-1]+(-r[:,t-1]+phi(xi))/tau*dt #equation 1\n",
    "for t in range(t_pre,t_delay):\n",
    "    xi=np.dot(J,r[:,t-1])\n",
    "    r[:,t]=r[:,t-1]+(-r[:,t-1]+phi(I+xi))/tau*dt #equation 1\n",
    "for t in range(t_delay,t_max):\n",
    "    xi=np.dot(J,r[:,t-1])\n",
    "    r[:,t]=r[:,t-1]+(-r[:,t-1]+phi(xi))/tau*dt #equation 1\n",
    "plt.figure()\n",
    "plt.title('Firing rate dynamics under familiar stimulus')\n",
    "plt.xlabel('Time(ms)')\n",
    "plt.ylabel('Rate(Hz)')\n",
    "for i in range(30):\n",
    "    plt.plot(range(0,t_max-t_p),r[i,t_p:t_max])\n",
    "plt.vlines(t_pre-t_p, 0,80, colors = \"grey\", linestyles = \"dashed\",linewidth=2)\n",
    "plt.vlines(t_delay-t_p, 0,80, colors = \"grey\", linestyles = \"dashed\",linewidth=2)\n",
    "#plt.savefig('Figures/familiar_stimulus.png')"
   ]
  },
  {
   "cell_type": "code",
   "execution_count": null,
   "metadata": {},
   "outputs": [],
   "source": [
    "dist=np.ones(t_max-t_p)\n",
    "#for i in range(p):\n",
    "for t in range(t_p,t_max):\n",
    "    dist[t-t_p]=-np.sum(abs(r[:,t]-r_pattern[0]))\n",
    "plt.figure()\n",
    "plt.title('Energy Function F(x)')\n",
    "plt.xlabel('Time(ms)')\n",
    "plt.ylabel('Energy')\n",
    "plt.plot(range(0,t_max-t_p),dist)"
   ]
  },
  {
   "cell_type": "code",
   "execution_count": null,
   "metadata": {},
   "outputs": [],
   "source": [
    "H=np.zeros(t_max-t_p)\n",
    "#for i in range(p):\n",
    "for t in range(t_p,t_max):\n",
    "    H[t-t_p]=np.sum(-0.5*J*(np.dot(r[:,t].reshape(N,1),r[:,t].reshape(1,N))))+np.dot(I.reshape(1,N),r[:,t].reshape(N,1))\n",
    "plt.figure()\n",
    "plt.title('Energy Function H')\n",
    "plt.xlabel('Time(ms)')\n",
    "plt.ylabel('Energy')\n",
    "plt.plot(range(0,t_max-t_p),H)"
   ]
  },
  {
   "cell_type": "code",
   "execution_count": null,
   "metadata": {},
   "outputs": [],
   "source": [
    "plt.figure()\n",
    "plt.title('Firing rate distribution under familiar stimulus')\n",
    "plt.xlabel('Rate(Hz)')\n",
    "plt.ylabel('Probability Density')\n",
    "sns.kdeplot(r[:,t_delay-1],label='Presentation')\n",
    "sns.kdeplot(r[:,t_max-1],label='Delay')\n",
    "plt.savefig('Figures/distribution_familiar.png')"
   ]
  },
  {
   "cell_type": "code",
   "execution_count": null,
   "metadata": {},
   "outputs": [],
   "source": [
    "#Overlap\n",
    "plt.figure()\n",
    "plt.ylim(0,1)\n",
    "plt.title('Overlap under familiar stimulus')\n",
    "plt.xlabel('Time(s)')\n",
    "plt.ylabel('Overlap(m)')\n",
    "\n",
    "for i in range(p):\n",
    "    I=I0*xi_pattern[i]\n",
    "    r[:,0]=r0\n",
    "    for t in range(1,t_pre):\n",
    "        xi=np.dot(J,r[:,t-1])\n",
    "        r[:,t]=r[:,t-1]+(-r[:,t-1]+phi(xi))/tau*dt #equation 1\n",
    "    for t in range(t_pre,t_delay):\n",
    "        xi=np.dot(J,r[:,t-1])\n",
    "        r[:,t]=r[:,t-1]+(-r[:,t-1]+phi(I+xi))/tau*dt #equation 1\n",
    "    for t in range(t_delay,t_max):\n",
    "        xi=np.dot(J,r[:,t-1])\n",
    "        r[:,t]=r[:,t-1]+(-r[:,t-1]+phi(xi))/tau*dt #equation 1\n",
    "    p_r=np.zeros(t_max-t_p)\n",
    "    for t in range(0,t_max-t_p):\n",
    "        p_r[t]=scipy.stats.pearsonr(r[:,t+t_p],r_pattern[i])[0]\n",
    "    plt.plot(range(0,t_max-t_p),p_r)\n",
    "plt.savefig(\"Figures/overlap_familiar.png\")"
   ]
  },
  {
   "cell_type": "markdown",
   "metadata": {},
   "source": [
    "A=3.55\n",
    "p=14\n",
    "I0=1\n",
    "\n",
    "t_p=1000\n",
    "t_max=2500+t_p\n",
    "r=np.zeros((N,t_max))\n",
    "tau=20\n",
    "t_pre=1000+t_p\n",
    "t_delay=1500+t_p\n",
    "dt=1\n",
    "r[:,0]=r0\n",
    "\n",
    "xi_pattern=np.random.normal(0,1,size=(p,N))\n",
    "r_pattern=r_m/(1+np.exp(-beta_T*(xi_pattern-h_0)))\n",
    "print(r_pattern)\n",
    "I=I0*xi_pattern[0]\n",
    "\n",
    "J=np.zeros((N,N))\n",
    "Sum=np.zeros((N,N))\n",
    "for k in range(p):\n",
    "    Sum=Sum+np.dot(f(np.transpose(r_pattern[k])).reshape(N,1),g(r_pattern[k]).reshape(1,N))\n",
    "J=A*C/c/N*Sum\n",
    "for i in range(N):\n",
    "    J[i,i]=0\n",
    "for t in range(1,t_pre):\n",
    "    xi=np.dot(J,r[:,t-1])\n",
    "    r[:,t]=r[:,t-1]+(-r[:,t-1]+phi(xi))/tau*dt #equation 1\n",
    "for t in range(t_pre,t_delay):\n",
    "    xi=np.dot(J,r[:,t-1])\n",
    "    r[:,t]=r[:,t-1]+(-r[:,t-1]+phi(I+xi))/tau*dt #equation 1\n",
    "for t in range(t_delay,t_max):\n",
    "    xi=np.dot(J,r[:,t-1])\n",
    "    r[:,t]=r[:,t-1]+(-r[:,t-1]+phi(xi))/tau*dt #equation 1\n",
    "plt.figure()\n",
    "plt.title('Firing rate dynamics under familiar stimulus')\n",
    "plt.xlabel('Time(ms)')\n",
    "plt.ylabel('Rate(Hz)')\n",
    "for i in range(30):\n",
    "    plt.plot(range(0,t_max-t_p),r[i,t_p:t_max])\n",
    "plt.vlines(t_pre-t_p, 0,80, colors = \"grey\", linestyles = \"dashed\",linewidth=2)\n",
    "plt.vlines(t_delay-t_p, 0,80, colors = \"grey\", linestyles = \"dashed\",linewidth=2)\n",
    "#plt.savefig('Figures/chaotic_familiar_stimulus.png')"
   ]
  },
  {
   "cell_type": "code",
   "execution_count": null,
   "metadata": {},
   "outputs": [],
   "source": []
  },
  {
   "cell_type": "code",
   "execution_count": null,
   "metadata": {},
   "outputs": [],
   "source": []
  }
 ],
 "metadata": {
  "kernelspec": {
   "display_name": "Python 3",
   "language": "python",
   "name": "python3"
  },
  "language_info": {
   "codemirror_mode": {
    "name": "ipython",
    "version": 3
   },
   "file_extension": ".py",
   "mimetype": "text/x-python",
   "name": "python",
   "nbconvert_exporter": "python",
   "pygments_lexer": "ipython3",
   "version": "3.7.3"
  }
 },
 "nbformat": 4,
 "nbformat_minor": 4
}
