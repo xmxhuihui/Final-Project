{
 "cells": [
  {
   "cell_type": "code",
   "execution_count": 1,
   "metadata": {},
   "outputs": [
    {
     "name": "stdout",
     "output_type": "stream",
     "text": [
      "-0.01\n"
     ]
    },
    {
     "name": "stderr",
     "output_type": "stream",
     "text": [
      "/Users/xmxhuihui/anaconda3/lib/python3.7/site-packages/ipykernel_launcher.py:17: RuntimeWarning: overflow encountered in exp\n"
     ]
    }
   ],
   "source": [
    "from scipy.integrate import quad\n",
    "import numpy as np\n",
    "r_m=76.2\n",
    "beta_T=0.82\n",
    "h_0=2.46\n",
    "c=0.005\n",
    "x_f=26.6\n",
    "beta_f=0.28\n",
    "q_f=0.83\n",
    "A=3.55\n",
    "q_g=0\n",
    "beta_g=beta_f\n",
    "x_g=x_f\n",
    "p=1\n",
    "N=5000\n",
    "def func(z):\n",
    "    I=np.exp(-z**2/2)*(2*q_g-1+np.tanh(beta_g*(r_m/(1+np.exp(-beta_T*(z-h_0)))-x_g)))\n",
    "    return I\n",
    "temp=1\n",
    "for q_g in np.arange(0,0.5,0.01):\n",
    "    I=quad(func,-np.inf,np.inf)\n",
    "    if abs(I[0])<abs(temp):\n",
    "        temp=I[0]\n",
    "    else:\n",
    "        break\n",
    "print(q_g-0.01)\n"
   ]
  },
  {
   "cell_type": "code",
   "execution_count": 2,
   "metadata": {},
   "outputs": [
    {
     "name": "stdout",
     "output_type": "stream",
     "text": [
      "0.0\n"
     ]
    }
   ],
   "source": []
  }
 ],
 "metadata": {
  "kernelspec": {
   "display_name": "Python 3",
   "language": "python",
   "name": "python3"
  },
  "language_info": {
   "codemirror_mode": {
    "name": "ipython",
    "version": 3
   },
   "file_extension": ".py",
   "mimetype": "text/x-python",
   "name": "python",
   "nbconvert_exporter": "python",
   "pygments_lexer": "ipython3",
   "version": "3.7.3"
  }
 },
 "nbformat": 4,
 "nbformat_minor": 4
}
