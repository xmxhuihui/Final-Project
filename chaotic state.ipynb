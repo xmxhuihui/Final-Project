{
 "cells": [
  {
   "cell_type": "code",
   "execution_count": 131,
   "metadata": {},
   "outputs": [],
   "source": [
    "from sympy import Symbol,solve\n",
    "import numpy as np\n",
    "import matplotlib.pyplot as plt\n",
    "import random\n",
    "import scipy.stats\n",
    "%matplotlib inline\n",
    "r_m=76.2\n",
    "beta_T=0.82\n",
    "h_0=2.46\n",
    "c=1\n",
    "x_f=26.6\n",
    "beta_f=0.28\n",
    "q_f=0.83\n",
    "A=3.55\n",
    "beta_g=beta_f\n",
    "x_g=x_f\n",
    "p=10\n",
    "N=50"
   ]
  },
  {
   "cell_type": "code",
   "execution_count": 132,
   "metadata": {},
   "outputs": [
    {
     "name": "stdout",
     "output_type": "stream",
     "text": [
      "[[ 1.48929465 28.10222363 19.62922038 15.37101014  5.99627459 14.42007608\n",
      "   5.1049612   5.64731739  8.58408337  3.86199685 12.97534892  3.28540259\n",
      "  15.85850277  7.8800571  16.33844206  3.52350903 16.90693082 12.8907069\n",
      "   5.10239401  4.26768607 13.51986039 12.69439082  5.09171555 26.63834685\n",
      "   3.73429218  4.21738837  8.23123859 11.25191343 34.84672512 14.98568244\n",
      "   6.5720917   3.65275083  9.46525816 16.10298099 11.34512981  6.5295017\n",
      "   5.65343698 14.43199786  3.98990016 12.39951568 14.91592255  5.99811968\n",
      "  15.283449    7.53342908 20.50632796 19.34511527  5.50748144  5.83996318\n",
      "   7.07548346 20.23108338]\n",
      " [10.35550052 13.57059769 10.44657005  8.20648571 15.86333448 10.88665677\n",
      "   6.05552415  7.45969451  5.18339148  4.91131626  6.58463088  3.19869324\n",
      "   9.74878013  9.57698707 18.03290391  7.09503311 43.98618243  4.95716584\n",
      "   8.30001061 16.31443967 13.86926343  6.43479348  4.32542516 12.01359152\n",
      "  39.78921803 19.60176614  6.52467477 14.21475369  7.94342951  2.62522616\n",
      "   1.71809829 10.02545286  6.74781606  7.55193134 44.87220276  2.9121445\n",
      "  28.56337633  5.03892758  8.303168    6.73133569 21.70241109  9.18243267\n",
      "   8.9463304  14.64511078  1.67567522 26.06761147  3.91989364  7.15016544\n",
      "   4.51575853  3.67980994]\n",
      " [10.74378426  8.48696255  4.90610348  6.4017831  16.76192169 13.62496896\n",
      "  10.77157805  3.23875068  6.81977795  6.19799034  7.86323236 14.82919514\n",
      "   6.90843915 15.36730271  6.83261727  4.0905188  11.47499691 14.85185379\n",
      "   5.19716331 12.2493838   3.28684256 13.65926628 15.06474123  6.98993164\n",
      "  16.35692759 10.75584825  7.27121011  6.53823031  6.29821053  8.06330034\n",
      "  14.94372969  7.24958734 11.08891498  7.32729403  2.53188218  6.60864258\n",
      "  12.55293035  5.99349278  9.76572308 16.44076162 22.51399749  9.98106637\n",
      "  31.0977043   6.9568443  18.45976284 16.2376499   2.4895138   8.18947297\n",
      "  15.47449943 13.94594275]\n",
      " [ 5.45081794 34.14878246  9.08429947 22.85512128  9.1315795   7.29070115\n",
      "   8.99510302  2.47070083 19.44945738  7.62826726  5.12358548 13.39433246\n",
      "   7.26845748 23.11809101 14.7891085   3.60133828  7.6949944  28.90831786\n",
      "   5.39014294  8.43654523  3.00200298  5.62685667 28.7889213  14.51757481\n",
      "   3.59966274 22.60112109 25.99310941  2.5827302  15.14739262 27.47518546\n",
      "  13.06745331 21.65449071 12.54181067  5.5528723   7.49893387  8.15966433\n",
      "   8.64284361  5.70344173 18.38041118 14.25222227 11.67610008  6.23022604\n",
      "   7.8512928  19.59136188 10.90424748 14.32918055 10.65855915  4.892442\n",
      "   9.44558648  1.10456383]\n",
      " [13.656682    6.30941175 17.7588671   9.87495931 21.89441557  6.3035583\n",
      "  19.53616592  2.81607697  6.95087405  8.17246267 10.70710492  8.816024\n",
      "  13.95256879 13.32870283  8.13273038  4.79717204  3.70617235  4.29292468\n",
      "   3.65857314  5.33501264 13.46628328  2.0764342  23.14114218 10.61525687\n",
      "  12.04862174  4.9912642  18.16635134 25.24921583  2.18588073  7.29536035\n",
      "   3.75689817  1.71594825 30.11634471 29.29594473  9.02795449  4.48054021\n",
      "  14.79530202  2.62248534  4.50756371 22.58262907  3.7573374  10.71140189\n",
      "   6.59979266  3.53729983 24.4724107  15.20495975 16.8564741  22.7881005\n",
      "  12.75888538  8.68390951]\n",
      " [ 1.58330946 19.10703368 28.92776857 30.78615069 21.39878004 11.69980821\n",
      "  15.4143413  11.1278698   1.89868009  4.84897995  8.15090533 17.1213156\n",
      "  21.1124603  11.38139706  3.95412028  8.50962897  4.45901053  5.69427041\n",
      "  15.60208492 12.62984815  3.24667895  2.29767734 34.70683774  6.82746163\n",
      "   5.60523963  8.38801613 11.0590146  10.46407998  7.15090593  7.10769302\n",
      "  11.17067502  9.5895912   3.84574544  8.69488678 11.16546664  6.21086467\n",
      "   6.21848098 14.42741601 14.85303403  3.17854081  9.81224733 11.01988593\n",
      "   7.20153658  8.15074552  9.26768818 11.98088406 16.98535642  6.51954549\n",
      "   7.3620281  10.54158767]\n",
      " [11.29201596 11.56706914 12.65254255  6.00837649  4.25182761  4.01527136\n",
      "   5.68765376  6.38782233  3.72904473 27.94021648 11.55023392  9.80835148\n",
      "  21.13972855 13.25519411 14.48230141  2.59163    21.28739314 19.50903187\n",
      "   5.75485093 16.92993331 12.48054188 19.91067115  7.59018841  2.70667507\n",
      "  12.23013949 12.33805688  5.16036812  2.40422799  3.11631526 16.6312905\n",
      "   2.74986016  5.94919967  9.51379245 16.25948652  4.34281326 22.0030424\n",
      "   6.72852346  9.54721491  7.27946645 15.21402611 10.57874175  4.47024187\n",
      "   9.00867908 18.05067719  3.02788842  5.04465151  4.18083448  6.31509636\n",
      "   6.0326192   3.63195257]\n",
      " [ 7.52151069 36.16956138 13.35570872 15.44250494  5.21974672  1.47392783\n",
      "  14.75307393 15.05608502 13.80147041  4.27418747  9.7978245   8.3975487\n",
      "   2.57601053  9.09308036 21.24422651  9.44383897  2.81055533  3.730578\n",
      "   9.54083988 10.44436025  3.22417537 15.93574814  7.13808358 28.24393561\n",
      "  13.9731314  16.01627219 14.80800619 18.07990515  7.088583    7.98239782\n",
      "   7.53709312  8.82090304  9.85189149 17.86293568  9.95234815  9.33606491\n",
      "   3.5592098   8.61482793  3.06647379 24.16886134 15.45349444  2.07817939\n",
      "  11.09962275 15.60131454  7.13928852 12.02943733 11.05655948 11.05425223\n",
      "   4.92523691 12.65172061]\n",
      " [ 7.49448743 12.03692817 26.07670002  2.58754577 21.72400832 18.82477299\n",
      "   3.95678345  2.54741592  9.59540026  4.46576323 10.07830832  2.8283301\n",
      "   4.23637489  4.80532191  7.71520973 26.98637286 10.52293459  4.17050337\n",
      "   3.90640118 15.33601288  8.02401025 24.83680834 31.31991775 16.37650337\n",
      "  11.80736372  4.03676453 14.6166142  10.9139896  14.50171885  7.5593803\n",
      "   7.28632998  7.41565594 12.09200334  8.15893304  5.3095926   7.62539978\n",
      "   8.80351023  6.65327944 18.36129797  2.34033592 25.97551566 10.12845628\n",
      "  15.81308145 15.37376473 13.64516831 22.32740396  6.72163423  9.02918709\n",
      "  14.27187092  2.78270619]\n",
      " [ 7.29194451 21.05629608  8.0150995   8.55199997  5.35853264  2.94417037\n",
      "   2.95060229 11.25068144 19.66482494 10.08955312 19.98885627  9.78158574\n",
      "   6.72676639 12.85475887  9.85172319  5.05074559  6.89259682 15.41495102\n",
      "   4.60429009  7.40991875  4.75493317 20.33627161  7.14238497 25.86758332\n",
      "   6.40414302  9.25889624  3.34339501 22.70897508  2.00920861  1.80294794\n",
      "  25.998894   11.43996639  3.66927418  6.332641    2.9875216  28.62192496\n",
      "   7.00810531  8.35538305  4.5059892  12.71652558 13.4483003   6.48964496\n",
      "   5.04504455  4.92111912  9.05321224 12.82872421  5.59692255  2.40181508\n",
      "   2.2001679  10.95565106]]\n"
     ]
    }
   ],
   "source": [
    "#Firing rate pattern\n",
    "xi_pattern=np.random.normal(0,1,size=(p,N))\n",
    "r_pattern=r_m/(1+np.exp(-beta_T*(xi_pattern-h_0)))\n",
    "print(r_pattern)"
   ]
  },
  {
   "cell_type": "code",
   "execution_count": 133,
   "metadata": {},
   "outputs": [],
   "source": [
    "# Structral connectivity matrix\n",
    "C=np.zeros((N,N),dtype='int8')\n",
    "for i in range(N):\n",
    "    for j in range(N):\n",
    "        if random.uniform(0,1)<c:\n",
    "                C[i,j]=1"
   ]
  },
  {
   "cell_type": "code",
   "execution_count": 134,
   "metadata": {},
   "outputs": [],
   "source": [
    "q_g=0.99\n",
    "def f(r):\n",
    "    return 0.5*(2*q_f-1+np.tanh(beta_f*(r-x_f)))\n",
    "def g(r):\n",
    "    return 0.5*(2*q_g-1+np.tanh(beta_g*(r-x_g)))\n",
    "def phi(xi):\n",
    "    return r_m/(1+np.exp(-beta_T*(xi-h_0)))"
   ]
  },
  {
   "cell_type": "code",
   "execution_count": 135,
   "metadata": {},
   "outputs": [
    {
     "name": "stdout",
     "output_type": "stream",
     "text": [
      "[[ 0.          0.33419641  0.23805626 ...  0.40863473 -0.78364943\n",
      "  -0.37325505]\n",
      " [ 0.60299732  0.         -1.5400738  ...  0.2785198   0.40967913\n",
      "  -0.59791899]\n",
      " [-0.63891574  1.63518805  0.         ... -0.54661009  0.12738751\n",
      "  -0.42175132]\n",
      " ...\n",
      " [ 0.11553396  2.01451187  0.92522405 ...  0.         -1.0255493\n",
      "  -1.00077868]\n",
      " [-0.37924763 -1.12649155 -0.41241683 ... -0.21619957  0.\n",
      "  -0.00867207]\n",
      " [-0.20213924  0.35750813 -0.26990987 ... -0.25265047 -2.30796999\n",
      "   0.        ]]\n"
     ]
    }
   ],
   "source": [
    "#equation 2\n",
    "J=np.zeros((N,N))\n",
    "Sum=np.zeros((N,N))\n",
    "for k in range(p):\n",
    "    Sum=Sum+np.dot(f(np.transpose(r_pattern[k])).reshape(N,1),g(r_pattern[k]).reshape(1,N))\n",
    "J=A*C/c/N*Sum\n",
    "J=np.random.normal(0,1,size=(N,N))*C\n",
    "#J=J-np.transpose(J)\n",
    "for i in range(N):\n",
    "    J[i,i]=0\n",
    "print(J)\n"
   ]
  },
  {
   "cell_type": "code",
   "execution_count": 136,
   "metadata": {},
   "outputs": [
    {
     "name": "stdout",
     "output_type": "stream",
     "text": [
      "[1.80444116 4.00449443 0.84961799 3.33280908 2.87649029 1.11480952\n",
      " 1.60390085 1.02604295 3.96302617 2.84071182 1.04482652 4.40003673\n",
      " 3.40534282 4.16988436 1.64441243 4.2033462  2.40250312 0.53542257\n",
      " 4.28779087 2.8545123  3.12973083 2.45937125 1.13611506 0.04963228\n",
      " 2.87787268 1.76731517 2.0842422  2.58800185 2.18001044 0.75061048\n",
      " 1.66380801 3.7637724  4.85937672 4.19139481 4.06883267 4.25462672\n",
      " 0.10678225 4.03159552 1.15884779 1.41704813 1.05448075 0.21365878\n",
      " 4.48247901 2.31761217 3.97775558 1.28351344 0.97602941 3.8860541\n",
      " 0.22974227 2.55238502]\n"
     ]
    }
   ],
   "source": [
    "# initial firing rate\n",
    "r0=np.random.uniform(0,5,N)\n",
    "#for i in range(p):\n",
    "#    for j in range(N):\n",
    "#        r0[j]=np.random.normal(r_pattern[i,j],1)\n",
    "print(r0)"
   ]
  },
  {
   "cell_type": "code",
   "execution_count": 137,
   "metadata": {},
   "outputs": [
    {
     "data": {
      "image/png": "[encoded data removed]",
      "text/plain": [
       "<Figure size 432x288 with 1 Axes>"
      ]
     },
     "metadata": {
      "needs_background": "light"
     },
     "output_type": "display_data"
    }
   ],
   "source": [
    "t_p=1000\n",
    "t_max=2500+t_p\n",
    "r=np.zeros((N,t_max))\n",
    "tau=20\n",
    "t_pre=1000+t_p\n",
    "t_delay=1500+t_p\n",
    "dt=1\n",
    "I0=1\n",
    "r[:,0]=r0\n",
    "I=I0*xi_pattern[0]\n",
    "for t in range(1,t_pre):\n",
    "    r[:,t]=r[:,t-1]+1/tau*(-r[:,t-1]+np.dot(J,r[:,t-1])+I)\n",
    "plt.figure()\n",
    "for i in range(30):\n",
    "    plt.plot(range(t_pre),r[i,:t_pre])"
   ]
  },
  {
   "cell_type": "code",
   "execution_count": null,
   "metadata": {},
   "outputs": [],
   "source": []
  },
  {
   "cell_type": "code",
   "execution_count": null,
   "metadata": {},
   "outputs": [],
   "source": []
  }
 ],
 "metadata": {
  "kernelspec": {
   "display_name": "Python 3",
   "language": "python",
   "name": "python3"
  },
  "language_info": {
   "codemirror_mode": {
    "name": "ipython",
    "version": 3
   },
   "file_extension": ".py",
   "mimetype": "text/x-python",
   "name": "python",
   "nbconvert_exporter": "python",
   "pygments_lexer": "ipython3",
   "version": "3.7.3"
  }
 },
 "nbformat": 4,
 "nbformat_minor": 4
}
